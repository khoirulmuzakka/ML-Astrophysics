{
 "cells": [
  {
   "cell_type": "markdown",
   "metadata": {},
   "source": [
    "## Exercise 3-1: Probability Theory\n",
    "***\n",
    "An astronomer has developed a machine learning code that classifies galaxies into three categories: spiral, elliptical, and irregular. This algorithm has a 95 per cent accuracy for spirals, 90 per\n",
    "cent accuracy for ellipticals, and 80 per cent accuracy for irregulars. If a galaxy gets misclassified,\n",
    "the probability for either of the two other classes is equal.\n",
    "The astronomer uses this code to classify galaxies in a sample that consists of 70 per cent spirals,\n",
    "28 per cent ellipticals and 2 per cent irregulars.\n",
    "1. What is the probability that a randomly selected galaxy classified as irregular is actually an\n",
    "irregular?\n",
    "2. What is the probability that a randomly selected galaxy classified as an elliptical is actually\n",
    "a spiral?\n",
    "\n",
    "## Exercise 3-2 Gradient descent\n",
    "***\n",
    "Here, we want to test how well gradient descent does for several test problems. For this, use three\n",
    "different functions, both in 2 and 30 dimensions:\n",
    "-  Sphere function\n",
    "-  Rosenbrock function\n",
    "-  Rastrigin function\n",
    "\n",
    "You can find the analytic descriptions here:\n",
    "https://en.wikipedia.org/wiki/Test_functions_for_optimization\n",
    "1. Implement a gradient optimizer\n",
    "To test your algorithm with each function, you will need to calculate the gradient for each of the\n",
    "above functions. Use a default learning rate of η = 0.1.\n",
    "2. Test your gradient optimizer on all three functions for 2 dimensions\n",
    "How many iterations do you need to achieve an accuracy of 1.e-5? How do you have to adjust\n",
    "your learning rate for each test function? Why?\n",
    "3. Plot the function value vs the number of iterations\n",
    "4. Test your gradient optimizer on all three functions for 30 dimensions\n",
    "Here, we want to test how well gradient descent does for several test problems. For this, use three\n",
    "different functions, both in 2 and 30 dimensions.\n",
    "\n",
    "## Exercise 3-3 Monte Carlo optimizers\n",
    "***\n",
    "Here, we want to test how well Monte Carlo methods do for several test problems. Use the same\n",
    "test functions as in 3-2.\n",
    "1.  Implement a Metropolis Hastings MCMC algorithm\n",
    "2.  Test your MCMC on all three functions for 2 dimensions\n",
    "How many iterations do you need to achieve an accuracy of 1.e-5? How do you have to adjust\n",
    "your learning rate for each test function? Why? How about 30 dimensions?\n",
    "3.  Plot the function value vs the number of iterations and the 1st vs 2nd dimension for each\n",
    "step\n",
    "4.  Bonus questions: Try other stochastic methods, e.g.\n",
    "-   Affine invariant ensemble sampler http://dfm.io/emcee\n",
    "-   Parallel tempering http://dfm.io/emcee\n",
    "-   Genetic algorithms https://github.com/deap/deap\n",
    "***\n"
   ]
  },
  {
   "cell_type": "markdown",
   "metadata": {},
   "source": [
    "# Test function\n",
    "1. Shperical Function. \n",
    "\n",
    "The function is given by $f(x)= \\sum_i x_i^2$ and the Gradient is given by $ f^{(i)}(x)=2x_j$\n",
    "2. Rosenbrock Function. According to [Wikipedia](https://en.wikipedia.org/wiki/Test_functions_for_optimization), The Rosenbrock function in $N$-dimension is given by\n",
    "$$f(x) = \\sum_{i=1}^{N-1} \\left[100 (x_{i+1}-x_i^2)^2+(1-x_i)^2\\right]$$\n",
    "The derivative is then given by \n",
    "$$\\frac{\\partial f}{\\partial x_j} = \\sum_{i=1}^{N-1} \\left[ 2(x_{i+1}-x_{i}^2) \\delta_{j(i+1)}-2\\left[2x_{i+1} x_{i} -2x_{i}^3-x_{i}+1\\right]\\delta_{ji}\\right]\\\\\n",
    "= 4x_j^3-4x_j x_{j+1}-2x_{j-1}^2+4x_j-2$$\n",
    "\n",
    "3. Rastrigin Function. The function is given by \n",
    "$$ f(x) = 10 N \\sum_i^N \\left[ x_i^2- 10\\cos (2\\pi x_i)\\right]$$\n",
    "\n",
    "and the derivativ is given by\n",
    "$$\\frac{\\partial f}{\\partial x_j} = 20N\\left(x_j+10\\pi\\sin(2\\pi x_j)\\right)$$\n"
   ]
  },
  {
   "cell_type": "code",
   "execution_count": 1,
   "metadata": {
    "scrolled": true
   },
   "outputs": [],
   "source": [
    "import numpy as np\n",
    "import matplotlib.pyplot as plt\n",
    "import seaborn as sb\n",
    "import scipy as sc\n",
    "from scipy import spatial\n"
   ]
  },
  {
   "cell_type": "markdown",
   "metadata": {},
   "source": [
    "## 3.2 Gradient Descent\n",
    "***\n",
    "### Spherical Function"
   ]
  },
  {
   "cell_type": "code",
   "execution_count": 2,
   "metadata": {},
   "outputs": [
    {
     "name": "stdout",
     "output_type": "stream",
     "text": [
      "number of iteration : 161\n",
      "Minimum value: [2.49739884e-16 2.49739884e-16]\n"
     ]
    }
   ],
   "source": [
    "########## 2 DImensions ##############\n",
    "\n",
    "#Pick initial Vector \n",
    "x=np.array([1,1])\n",
    "\n",
    "#Learning rate\n",
    "a=0.1\n",
    "\n",
    "#initial updated value\n",
    "x_up =x\n",
    "\n",
    "#update and looping\n",
    "it  = 0\n",
    "while True:\n",
    "    try :\n",
    "        it = it+1\n",
    "        x =x_up\n",
    "        x_up = 0.8*x\n",
    "        if spatial.distance.euclidean(x,x_up) < 0.0000000000000001:\n",
    "            print (\"number of iteration : {}\".format(it))\n",
    "            print (\"Minimum value: {}\".format(x_up))\n",
    "            break\n",
    "    except ValueError:\n",
    "        print(\"overflow happens at {} iteration\".format(it))\n",
    "        break\n",
    "    except KeyboardInterrupt :\n",
    "        print (\"number of iteration so far: {}\".format(it))\n",
    "        print (\"Minimum value so far: {}\".format(x_up))\n",
    "        break"
   ]
  },
  {
   "cell_type": "code",
   "execution_count": 3,
   "metadata": {},
   "outputs": [
    {
     "name": "stdout",
     "output_type": "stream",
     "text": [
      "number of iteration : 43\n",
      "Minimum value: [6.80564734e-05 6.80564734e-05 6.80564734e-05 6.80564734e-05\n",
      " 6.80564734e-05 6.80564734e-05 6.80564734e-05 6.80564734e-05\n",
      " 6.80564734e-05 6.80564734e-05 6.80564734e-05 6.80564734e-05\n",
      " 6.80564734e-05 6.80564734e-05 6.80564734e-05 6.80564734e-05\n",
      " 6.80564734e-05 6.80564734e-05 6.80564734e-05 6.80564734e-05\n",
      " 6.80564734e-05 6.80564734e-05 6.80564734e-05 6.80564734e-05\n",
      " 6.80564734e-05 6.80564734e-05 6.80564734e-05 6.80564734e-05\n",
      " 6.80564734e-05 6.80564734e-05]\n"
     ]
    }
   ],
   "source": [
    "#Pick initial Vector \n",
    "x=np.ones((30,))\n",
    "\n",
    "#Learning rate\n",
    "a=0.000000001\n",
    "\n",
    "#initial updated value\n",
    "x_up =x\n",
    "\n",
    "#update and looping\n",
    "it  = 0\n",
    "\n",
    "while True:\n",
    "    try : \n",
    "        it = it+1\n",
    "        x =x_up\n",
    "        x_up = 0.8*x\n",
    "        if spatial.distance.euclidean(x,x_up) < 0.0001:\n",
    "            print (\"number of iteration : {}\".format(it))\n",
    "            print (\"Minimum value: {}\".format(x_up))\n",
    "            break\n",
    "    except ValueError:\n",
    "        print(\"overflow happens at {} iteration\".format(it))\n",
    "        break\n",
    "    except KeyboardInterrupt :\n",
    "        print (\"number of iteration so far: {}\".format(it))\n",
    "        print (\"Minimum value so far: {}\".format(x_up))\n",
    "        break"
   ]
  },
  {
   "cell_type": "markdown",
   "metadata": {},
   "source": [
    "## Rosenbrock Function"
   ]
  },
  {
   "cell_type": "code",
   "execution_count": 4,
   "metadata": {},
   "outputs": [],
   "source": [
    "def kronecker(i,j):\n",
    "    if i==j:\n",
    "        return 1\n",
    "    else :\n",
    "        return 0\n",
    "\n",
    "def der_f (x,j,N) :\n",
    "    \"\"\"Derivative of Rosenbrock function with repect to x_j, with j=1,2,..., N \"\"\"\n",
    "    if j==N :\n",
    "        return 4*x[N-1]**3-2*x[N-2]**2+4*x[N-1]-2\n",
    "    elif j==1 :\n",
    "        return 4*x[0]**3-4*x[0]*x[1]+4*x[0]-2\n",
    "    else :\n",
    "        return 4*x[j-1]**3-4*x[j-1]*x[j]-2*x[j-2]**2+4*x[j-1]-2"
   ]
  },
  {
   "cell_type": "code",
   "execution_count": 5,
   "metadata": {},
   "outputs": [
    {
     "name": "stdout",
     "output_type": "stream",
     "text": [
      "number of iteration : 1\n",
      "Minimum value: [2.99999994 4.9999995 ]\n"
     ]
    }
   ],
   "source": [
    "###################### 2 Dimensions#######################\n",
    "#Pick initial Vector \n",
    "x=np.array([3,5])\n",
    "\n",
    "#Learning rate\n",
    "a=0.000000001  #\n",
    "\n",
    "#initial updated value\n",
    "x_up =x\n",
    "\n",
    "#update and looping\n",
    "it  = 0\n",
    "\n",
    "while True:\n",
    "    try :\n",
    "        it = it+1\n",
    "        x =x_up\n",
    "        x_up = x - a*np.array([der_f(x, j, 2) for j in range(1,3)])   \n",
    "        if spatial.distance.euclidean(x,x_up) < 0.0001:\n",
    "            print (\"number of iteration : {}\".format(it))\n",
    "            print (\"Minimum value: {}\".format(x_up))\n",
    "            break\n",
    "    except ValueError:\n",
    "        print(\"overflow happens at {} iteration\".format(it))\n",
    "        break\n",
    "    except KeyboardInterrupt :\n",
    "        print (\"number of iteration so far: {}\".format(it))\n",
    "        print (\"Minimum value so far: {}\".format(x_up))\n",
    "        break\n",
    "        "
   ]
  },
  {
   "cell_type": "code",
   "execution_count": 6,
   "metadata": {},
   "outputs": [
    {
     "name": "stdout",
     "output_type": "stream",
     "text": [
      "number of iteration : 430016\n",
      "Minimum value: [1.03712334 1.59593214 1.86742512 1.99892244 2.06662354 2.10431282\n",
      " 2.12692448 2.14139094 2.15114967 2.15802319 2.16303875 2.16680714\n",
      " 2.16970861 2.17198936 2.17381425 2.17529696 2.17651789 2.17753518\n",
      " 2.17839168 2.17911955 2.17974332 2.18028191 2.18075014 2.1811595\n",
      " 2.18151593 2.18178471 2.18151178 2.17635525 2.13137912 1.81342158]\n"
     ]
    }
   ],
   "source": [
    "############ B.2 30 Dimension #################\n",
    "\n",
    "#Pick initial Vector \n",
    "x=np.array([i for i in range(1,31)])\n",
    "\n",
    "#Learning rate\n",
    "a=0.0000001  #\n",
    "\n",
    "#initial updated value\n",
    "x_up =x\n",
    "\n",
    "#update and looping\n",
    "it  = 0\n",
    "\n",
    "while True:\n",
    "    try :\n",
    "        it = it+1\n",
    "        x =x_up\n",
    "        x_up = x - a*np.array([der_f(x, j, 30) for j in range(1,31)]) \n",
    "        if spatial.distance.euclidean(x,x_up) < 0.00001:\n",
    "            print (\"number of iteration : {}\".format(it))\n",
    "            print (\"Minimum value: {}\".format(x_up))\n",
    "            break\n",
    "    except ValueError:\n",
    "        print(\"overflow happens at {} iteration\".format(it))\n",
    "        break\n",
    "    except KeyboardInterrupt :\n",
    "        print (\"number of iteration so far: {}\".format(it))\n",
    "        print (\"Minimum value so far: {}\".format(x_up))\n",
    "        break\n",
    "        "
   ]
  },
  {
   "cell_type": "markdown",
   "metadata": {},
   "source": [
    "## Rastrigin Function"
   ]
  },
  {
   "cell_type": "code",
   "execution_count": 7,
   "metadata": {},
   "outputs": [
    {
     "name": "stdout",
     "output_type": "stream",
     "text": [
      "number of iteration : 1\n",
      "Minimum value: [0.99999996 5.99999976]\n"
     ]
    }
   ],
   "source": [
    "#Gradient Vector :\n",
    "def grad_f(x, N) :\n",
    "    return np.array([20*N*(x[j-1]+10*np.pi* np.sin(2*np.pi*x[j-1])) for j in range(1, N+1)])\n",
    "\n",
    "#################### 2 Dimensions #################\n",
    "\n",
    "#Pick initial Vector \n",
    "x=np.array([1,6])\n",
    "\n",
    "#Learning rate\n",
    "a=0.000000001\n",
    "\n",
    "#initial updated value\n",
    "x_up =x\n",
    "\n",
    "#update and looping\n",
    "it  = 0\n",
    "while True:\n",
    "    try :\n",
    "        it = it+1\n",
    "        x =x_up\n",
    "        x_up = x-a*grad_f(x, 2)\n",
    "        if spatial.distance.euclidean(x,x_up) < 0.0001:\n",
    "            print (\"number of iteration : {}\".format(it))\n",
    "            print (\"Minimum value: {}\".format(x_up))\n",
    "            break\n",
    "    except ValueError:\n",
    "        print(\"overflow happens at {} iteration\".format(it))\n",
    "        break\n",
    "    except KeyboardInterrupt :\n",
    "        print (\"number of iteration so far: {}\".format(it))\n",
    "        print (\"Minimum value so far: {}\".format(x_up))\n",
    "        break"
   ]
  },
  {
   "cell_type": "code",
   "execution_count": 8,
   "metadata": {},
   "outputs": [
    {
     "name": "stdout",
     "output_type": "stream",
     "text": [
      "number of iteration : 1\n",
      "Minimum value: [ 1.  2.  3.  4.  5.  6.  7.  8.  9. 10. 11. 12. 13. 14. 15. 16. 17. 18.\n",
      " 19. 20. 21. 22. 23. 24. 25. 26. 27. 28. 29. 30.]\n"
     ]
    }
   ],
   "source": [
    "################### 30 Dimensions ####################\n",
    "\n",
    "#Gradient Vector :\n",
    "def grad_f(x, N) :\n",
    "    return np.array([20*N*(x[j-1]+10*np.pi* np.sin(2*np.pi*x[j-1])) for j in range(1, N+1)])\n",
    "\n",
    "#Pick initial Vector \n",
    "x=np.array([i for i in range(1,31)])\n",
    "\n",
    "#Learning rate\n",
    "a=0.000000000000001\n",
    "\n",
    "#initial updated value\n",
    "x_up =x\n",
    "\n",
    "#update and looping\n",
    "it  = 0\n",
    "while True:\n",
    "    try :\n",
    "        it = it+1\n",
    "        x =x_up\n",
    "        x_up = x-a*grad_f(x, 30)\n",
    "        if spatial.distance.euclidean(x,x_up) < 0.0001:\n",
    "            print (\"number of iteration : {}\".format(it))\n",
    "            print (\"Minimum value: {}\".format(x_up))\n",
    "            break\n",
    "    except ValueError:\n",
    "        print(\"overflow happens at {} iteration\".format(it))\n",
    "        break\n",
    "    except KeyboardInterrupt :\n",
    "        print (\"number of iteration so far: {}\".format(it))\n",
    "        print (\"Minimum value so far: {}\".format(x_up))\n",
    "        break"
   ]
  },
  {
   "cell_type": "markdown",
   "metadata": {},
   "source": [
    "***\n",
    "## 3.3 Montecarlo Optimizer\n",
    "***\n",
    "### Sphericle Functions"
   ]
  },
  {
   "cell_type": "code",
   "execution_count": 9,
   "metadata": {},
   "outputs": [],
   "source": [
    "def prob(x, N) :\n",
    "    return np.exp(-sum([x[i-1]**2 for i in range(1, N+1)]))\n",
    "prob(np.array([0]),1)\n",
    "\n",
    "################### 2 Dimensions#############\n",
    "#choose initial value of x\n",
    "x=np.array([1])\n",
    "x_up = x\n",
    "it = 0\n",
    "axis_x = []\n",
    "#axis_y =[]\n",
    "\n",
    "#choose Gaussian as proposal distribution\n",
    "#choose initial value of x\n",
    "x=np.array([1,1])\n",
    "x_up = x\n",
    "it = 0\n",
    "axis_x = []\n",
    "axis_y =[]\n",
    "\n",
    "#choose Gaussian as proposal distribution\n",
    "try :\n",
    "    for it in range(0, 300000) :\n",
    "        it = it+1\n",
    "        x = x_up\n",
    "        x_up = np.random.multivariate_normal(x, np.identity(2))\n",
    "        u = np.random.uniform(0.0, 1.0 , 1)\n",
    "        if float(u) < prob(x_up, 2)/ prob(x, 2):\n",
    "            pass\n",
    "        else :\n",
    "            x_up = x\n",
    "            \n",
    "\n",
    "        if it > 100000 :\n",
    "            axis_x.append(x_up[0])\n",
    "            axis_y.append(x_up[1])\n",
    "            \n",
    "except KeyboardInterrupt :\n",
    "    print(it)\n"
   ]
  },
  {
   "cell_type": "code",
   "execution_count": 10,
   "metadata": {},
   "outputs": [
    {
     "data": {
      "text/plain": [
       "<function matplotlib.pyplot.show(*args, **kw)>"
      ]
     },
     "execution_count": 10,
     "metadata": {},
     "output_type": "execute_result"
    },
    {
     "data": {
      "image/png": "[encoded data removed]",
      "text/plain": [
       "<Figure size 432x288 with 1 Axes>"
      ]
     },
     "metadata": {
      "needs_background": "light"
     },
     "output_type": "display_data"
    }
   ],
   "source": [
    "plt.hist2d(axis_x, axis_y, 35)\n",
    "plt.show"
   ]
  },
  {
   "cell_type": "markdown",
   "metadata": {},
   "source": [
    "### Rosenbrock Function"
   ]
  },
  {
   "cell_type": "code",
   "execution_count": 11,
   "metadata": {},
   "outputs": [],
   "source": [
    "def ros(x, N) :\n",
    "    return sum([100*(x[i]-x[i-1]**2)**2+(1-x[i-1])**2   for i in range(1, N)])\n",
    "def prob_ros(x, N) :\n",
    "    return np.exp(-ros(x, N))"
   ]
  },
  {
   "cell_type": "code",
   "execution_count": null,
   "metadata": {},
   "outputs": [],
   "source": [
    "#choose initial value of x\n",
    "x=np.array([1,1])\n",
    "x_up = x\n",
    "it = 0\n",
    "axis_x = []\n",
    "axis_y =[]\n",
    "\n",
    "#choose Gaussian as proposal distribution\n",
    "try :\n",
    "    for it in range(0, 3000000) :\n",
    "        it = it+1\n",
    "        x = x_up\n",
    "        x_up = np.random.multivariate_normal(x, np.identity(2))\n",
    "        u = np.random.uniform(0.0, 1.0 , 1)\n",
    "        if float(u) < prob_ros(x_up, 2)/ prob_ros(x, 2):\n",
    "            pass\n",
    "        else :\n",
    "            x_up = x\n",
    "            \n",
    "\n",
    "        if it > 2500000 :\n",
    "            axis_x.append(x_up[0])\n",
    "            axis_y.append(x_up[1])\n",
    "            \n",
    "except KeyboardInterrupt :\n",
    "    print(it)\n"
   ]
  },
  {
   "cell_type": "code",
   "execution_count": null,
   "metadata": {},
   "outputs": [],
   "source": [
    "plt.hist2d(axis_x, axis_y, 35)\n",
    "plt.show"
   ]
  },
  {
   "cell_type": "markdown",
   "metadata": {},
   "source": [
    "### Rastrigin Function"
   ]
  },
  {
   "cell_type": "code",
   "execution_count": null,
   "metadata": {},
   "outputs": [],
   "source": [
    "def rast(x, N) :\n",
    "    return 10*N*sum([x[i-1]**2-10*np.cos(2*np.pi*x[i-1])  for i in range(1, N+1)])\n",
    "def prob_rast(x, N) :\n",
    "    return np.exp(-rast(x, N))"
   ]
  },
  {
   "cell_type": "code",
   "execution_count": null,
   "metadata": {},
   "outputs": [],
   "source": [
    "#choose initial value of x\n",
    "x=np.array([1,1])\n",
    "x_up = x\n",
    "it = 0\n",
    "axis_x = []\n",
    "axis_y =[]\n",
    "\n",
    "#choose Gaussian as proposal distribution\n",
    "try :\n",
    "    for it in range(0, 3000000) :\n",
    "        it = it+1\n",
    "        x = x_up\n",
    "        x_up = np.random.multivariate_normal(x, np.identity(2))\n",
    "        u = np.random.uniform(0.0, 1.0 , 1)\n",
    "        if float(u) < prob_rast(x_up, 2)/ prob_rast(x, 2):\n",
    "            pass\n",
    "        else :\n",
    "            x_up = x\n",
    "            \n",
    "\n",
    "        if it > 2500000 :\n",
    "            axis_x.append(x_up[0])\n",
    "            axis_y.append(x_up[1])\n",
    "            \n",
    "except KeyboardInterrupt :\n",
    "    print(it)\n"
   ]
  },
  {
   "cell_type": "code",
   "execution_count": null,
   "metadata": {},
   "outputs": [],
   "source": [
    "plt.hist2d(axis_x, axis_y, 35)\n",
    "plt.show"
   ]
  },
  {
   "cell_type": "code",
   "execution_count": null,
   "metadata": {},
   "outputs": [],
   "source": []
  }
 ],
 "metadata": {
  "kernelspec": {
   "display_name": "Python 3",
   "language": "python",
   "name": "python3"
  },
  "language_info": {
   "codemirror_mode": {
    "name": "ipython",
    "version": 3
   },
   "file_extension": ".py",
   "mimetype": "text/x-python",
   "name": "python",
   "nbconvert_exporter": "python",
   "pygments_lexer": "ipython3",
   "version": "3.7.1"
  }
 },
 "nbformat": 4,
 "nbformat_minor": 2
}
